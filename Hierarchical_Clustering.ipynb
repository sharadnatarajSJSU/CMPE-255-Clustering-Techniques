{
  "nbformat": 4,
  "nbformat_minor": 0,
  "metadata": {
    "colab": {
      "name": "Hierarchical Clustering",
      "provenance": [],
      "authorship_tag": "ABX9TyNoKtH8+sP9Ir4TmeWhf9FE",
      "include_colab_link": true
    },
    "kernelspec": {
      "name": "python3",
      "display_name": "Python 3"
    },
    "language_info": {
      "name": "python"
    }
  },
  "cells": [
    {
      "cell_type": "markdown",
      "metadata": {
        "id": "view-in-github",
        "colab_type": "text"
      },
      "source": [
        "<a href=\"https://colab.research.google.com/github/sharadnatarajSJSU/CMPE-255-Clustering-Techniques/blob/main/Hierarchical_Clustering.ipynb\" target=\"_parent\"><img src=\"https://colab.research.google.com/assets/colab-badge.svg\" alt=\"Open In Colab\"/></a>"
      ]
    },
    {
      "cell_type": "code",
      "metadata": {
        "id": "grELtchI6MqY"
      },
      "source": [
        "import numpy as np\n",
        "import matplotlib.pyplot as plt\n",
        "%matplotlib inline"
      ],
      "execution_count": 1,
      "outputs": []
    },
    {
      "cell_type": "markdown",
      "metadata": {
        "id": "t1pgkJ647QbI"
      },
      "source": [
        "Hierarchical clustering is a technique where the algorithm generates 2 clusters in each iteration. The most popular method is agglomorative. The algorithm starts off with each point as a cluster. In each iteration it merges two clusters based on the distance function. When the algorithm stops executing naturally, we get one cluster inclusive of every cluster generated. We can represet this using a dendrogram. However, we can stop at any number of clusters."
      ]
    },
    {
      "cell_type": "markdown",
      "metadata": {
        "id": "6syM0fnA7wKh"
      },
      "source": [
        "To demonstrate this we will be using random points generated using the scikit learn library. We will perform agglomorative clustering on the data set."
      ]
    },
    {
      "cell_type": "markdown",
      "metadata": {
        "id": "dN3h7ngC74mU"
      },
      "source": [
        "Agglomorative clustering can be performed as the following methods.\n",
        "\n",
        "\n",
        "\n",
        "*   Single Link\n",
        "*   Complete Link\n",
        "*   Average Link\n",
        "\n",
        "\n",
        "\n",
        "\n"
      ]
    },
    {
      "cell_type": "markdown",
      "metadata": {
        "id": "To-nC5S_8LJU"
      },
      "source": [
        "#generating the data"
      ]
    },
    {
      "cell_type": "code",
      "metadata": {
        "id": "Ed9bj6CR8JA2"
      },
      "source": [
        "from sklearn.datasets import make_blobs\n",
        "X,y = make_blobs(centers=6, n_samples=200, random_state=0, cluster_std=0.7)"
      ],
      "execution_count": 6,
      "outputs": []
    },
    {
      "cell_type": "markdown",
      "metadata": {
        "id": "EAwwImfh8dT9"
      },
      "source": [
        "X is the data ponits generated. y is the labels to those data points. We can use y to check the accuracy"
      ]
    },
    {
      "cell_type": "code",
      "metadata": {
        "colab": {
          "base_uri": "https://localhost:8080/"
        },
        "id": "q5IS5hrp8RPU",
        "outputId": "cf9a959d-2cf8-4782-dfa1-f59c2d4fbe10"
      },
      "source": [
        "X"
      ],
      "execution_count": 7,
      "outputs": [
        {
          "output_type": "execute_result",
          "data": {
            "text/plain": [
              "array([[ 4.59652385,  0.82673565],\n",
              "       [-2.05758348,  8.38229869],\n",
              "       [-1.6656756 ,  7.79866291],\n",
              "       [-2.33013207,  2.61140823],\n",
              "       [ 1.25790923,  3.82442026],\n",
              "       [ 9.00383934, -2.26512351],\n",
              "       [ 5.68966819,  1.19402363],\n",
              "       [ 2.7183439 ,  0.78915659],\n",
              "       [ 0.242283  ,  3.30977477],\n",
              "       [-2.22705476,  1.83654249],\n",
              "       [ 5.70104332,  0.30150374],\n",
              "       [ 1.83747356,  5.14545322],\n",
              "       [ 3.37347301, -0.04576768],\n",
              "       [ 9.19054038, -2.80729437],\n",
              "       [-1.75617394,  6.86710525],\n",
              "       [ 0.40706768,  3.09538951],\n",
              "       [ 2.52587385,  1.18288695],\n",
              "       [-1.46587609,  7.90364013],\n",
              "       [-0.16486876,  4.62773491],\n",
              "       [ 0.34116122,  4.3401491 ],\n",
              "       [ 8.54157785, -1.48336792],\n",
              "       [ 8.96460937, -2.52741847],\n",
              "       [ 9.19587675, -1.61704873],\n",
              "       [ 1.19541747,  3.70592031],\n",
              "       [ 6.78967306,  0.09528397],\n",
              "       [ 1.23408114,  2.25819849],\n",
              "       [-0.76417865,  8.32178442],\n",
              "       [ 3.72346886,  1.5587993 ],\n",
              "       [ 5.37789524,  0.21306588],\n",
              "       [ 5.41544301, -0.2032295 ],\n",
              "       [ 9.17809042, -1.53534567],\n",
              "       [ 3.36255879,  1.53189492],\n",
              "       [ 9.81453229, -3.15988607],\n",
              "       [-0.21811905,  5.6693301 ],\n",
              "       [ 0.50554777,  4.05210011],\n",
              "       [-1.81761076,  6.80896299],\n",
              "       [ 9.34166269, -1.92310205],\n",
              "       [-0.86230945,  2.97916813],\n",
              "       [-2.08929078,  2.43519742],\n",
              "       [ 9.73972337, -2.65367347],\n",
              "       [ 1.45240954,  2.23470913],\n",
              "       [ 2.06261754,  2.14777301],\n",
              "       [ 1.30574069,  1.63577987],\n",
              "       [-0.88977878,  3.13993501],\n",
              "       [ 0.35482006,  2.9172298 ],\n",
              "       [-2.32681368,  7.87974341],\n",
              "       [ 2.02212543,  4.16017654],\n",
              "       [ 0.95654252,  4.60361964],\n",
              "       [ 8.46310653, -2.5497742 ],\n",
              "       [ 6.86110586,  1.17468475],\n",
              "       [10.02121179, -2.64853969],\n",
              "       [ 6.48679462,  0.81587388],\n",
              "       [-2.04823239,  2.33937528],\n",
              "       [ 1.75066004,  2.19214827],\n",
              "       [ 5.86914725,  0.92358414],\n",
              "       [-2.08045726,  7.48068857],\n",
              "       [ 2.26403424,  1.82613379],\n",
              "       [ 8.79176888, -3.18102381],\n",
              "       [ 0.75818331,  4.34310307],\n",
              "       [-1.9774369 ,  1.36150005],\n",
              "       [ 8.0441318 , -2.0155155 ],\n",
              "       [ 1.16592802,  1.57624136],\n",
              "       [ 6.23160396,  0.42202582],\n",
              "       [-0.96892333,  5.89464509],\n",
              "       [-1.7853313 ,  2.75031684],\n",
              "       [ 2.14410599,  1.17905621],\n",
              "       [ 0.09931333,  4.84803058],\n",
              "       [-2.60365164,  7.96760503],\n",
              "       [ 6.98819521,  0.69285782],\n",
              "       [ 1.10046838,  4.02254067],\n",
              "       [ 2.33247222,  0.1325206 ],\n",
              "       [ 5.29960001, -0.42855564],\n",
              "       [ 9.79628704, -3.16343109],\n",
              "       [-0.73825887,  2.16193021],\n",
              "       [ 9.47369579, -1.90497894],\n",
              "       [ 2.17193897,  1.34218567],\n",
              "       [ 9.24373519, -2.53199066],\n",
              "       [ 1.77304366,  1.75337521],\n",
              "       [ 0.61951355,  3.99713532],\n",
              "       [ 5.64708729, -0.21170954],\n",
              "       [-1.26017006,  8.10086623],\n",
              "       [-1.34127218,  7.6270064 ],\n",
              "       [ 6.43504751,  1.3766697 ],\n",
              "       [ 1.86766516,  1.45938314],\n",
              "       [-1.91741728,  7.59327277],\n",
              "       [-2.04459811,  3.99799248],\n",
              "       [-1.5439323 ,  2.40126062],\n",
              "       [ 2.304724  ,  1.39226488],\n",
              "       [ 1.58323466,  0.91994505],\n",
              "       [-1.089242  ,  1.7964419 ],\n",
              "       [ 5.57921528,  0.68759109],\n",
              "       [ 9.23011673, -2.40628332],\n",
              "       [ 0.61870648,  3.4773448 ],\n",
              "       [-0.81082279,  4.76132034],\n",
              "       [-1.66637702,  7.6689148 ],\n",
              "       [-2.35631265,  8.26272558],\n",
              "       [ 8.83359392, -2.66788861],\n",
              "       [ 4.2556058 , -0.1378564 ],\n",
              "       [ 0.12088284,  8.10852534],\n",
              "       [ 7.41183464, -1.90674596],\n",
              "       [ 1.48663347,  4.39407536],\n",
              "       [ 1.28697434,  4.53735936],\n",
              "       [ 5.14464325, -0.45238611],\n",
              "       [-1.57467314,  4.11722217],\n",
              "       [-0.88351036,  7.43240844],\n",
              "       [ 5.82352328,  0.69054811],\n",
              "       [ 2.04921553,  5.33233847],\n",
              "       [-1.1387012 ,  7.99798674],\n",
              "       [ 0.34944349,  4.57461908],\n",
              "       [-1.90936815,  7.54842523],\n",
              "       [ 5.63021461,  0.04485385],\n",
              "       [ 2.48512308,  1.54320833],\n",
              "       [-2.4480392 ,  2.59477304],\n",
              "       [ 6.42364265,  0.40327739],\n",
              "       [ 9.75889642, -2.44287103],\n",
              "       [ 6.03080996, -0.11728813],\n",
              "       [-2.24509841,  7.4901361 ],\n",
              "       [ 5.49874169,  1.0121492 ],\n",
              "       [ 2.38123123, -0.17770692],\n",
              "       [-2.250874  ,  3.39499842],\n",
              "       [ 2.31876539,  0.12808311],\n",
              "       [ 1.23966263,  1.5282422 ],\n",
              "       [ 6.23946581,  0.82265651],\n",
              "       [ 1.77385056,  3.43940925],\n",
              "       [ 0.33326049,  7.80588001],\n",
              "       [-0.69528316,  3.13974209],\n",
              "       [-2.29997235,  2.95439782],\n",
              "       [ 0.73273157,  4.41323161],\n",
              "       [-1.69446169,  7.55736975],\n",
              "       [ 6.40466464,  0.61914631],\n",
              "       [ 9.46541666, -2.95481018],\n",
              "       [-1.33095679,  2.84917699],\n",
              "       [ 1.02283213,  4.51551766],\n",
              "       [ 1.00830104,  4.17275863],\n",
              "       [-1.62825881,  8.12669505],\n",
              "       [-1.16061035,  2.79779983],\n",
              "       [ 0.53224461,  4.04986851],\n",
              "       [ 6.37116499,  0.82730337],\n",
              "       [-1.59582078,  2.45344746],\n",
              "       [-0.90263653,  7.75418726],\n",
              "       [-0.88230284,  3.14099162],\n",
              "       [ 1.08473328,  4.56850109],\n",
              "       [-0.44162368,  8.59119303],\n",
              "       [ 5.86154215, -0.58180218],\n",
              "       [ 6.32342077,  0.58053802],\n",
              "       [ 1.56907002,  0.79291948],\n",
              "       [-1.46456485,  6.66225735],\n",
              "       [-1.77469975,  1.95541636],\n",
              "       [-0.20211659,  6.3864705 ],\n",
              "       [ 8.35868641, -1.17047815],\n",
              "       [ 1.41629196,  1.67957506],\n",
              "       [ 1.61017527,  1.37116697],\n",
              "       [-1.70494178,  7.56179265],\n",
              "       [-1.87552673,  4.2685547 ],\n",
              "       [ 1.50899649,  4.38895984],\n",
              "       [-0.92712258,  2.46216435],\n",
              "       [ 8.78882032, -1.25570569],\n",
              "       [ 4.54435208,  0.24331659],\n",
              "       [ 8.79444758, -1.16948407],\n",
              "       [ 4.64582669,  0.84899473],\n",
              "       [ 5.58709854, -0.55363354],\n",
              "       [ 1.58137542,  3.78427181],\n",
              "       [-0.88153206,  7.89735548],\n",
              "       [-1.84577677,  2.93011767],\n",
              "       [ 3.09704406,  2.22478608],\n",
              "       [ 6.28482089, -0.52153799],\n",
              "       [ 8.33927428, -3.27387188],\n",
              "       [ 8.48447714, -2.84264405],\n",
              "       [-1.55440199,  2.10021681],\n",
              "       [ 9.1628883 , -0.75146318],\n",
              "       [ 1.01138721,  1.20523785],\n",
              "       [-0.01263885,  3.85345183],\n",
              "       [10.8859969 , -3.0731807 ],\n",
              "       [ 9.75612793, -1.41987726],\n",
              "       [ 4.82192647,  1.13810696],\n",
              "       [ 0.36671207,  3.89859256],\n",
              "       [-1.07881194,  1.78601303],\n",
              "       [-0.7571423 ,  3.37656687],\n",
              "       [-0.94987466,  8.30929564],\n",
              "       [ 1.51632627,  1.27513809],\n",
              "       [ 2.88041322,  0.77171627],\n",
              "       [ 8.99364089, -2.0721305 ],\n",
              "       [-2.6697349 ,  9.28060502],\n",
              "       [ 8.77996502, -1.67088712],\n",
              "       [ 8.76953214, -2.90026472],\n",
              "       [ 2.20106001,  1.58131099],\n",
              "       [ 3.40132694,  1.93402401],\n",
              "       [-0.97647444,  2.59138889],\n",
              "       [ 2.56509832,  3.28573136],\n",
              "       [-1.57277296,  8.17249705],\n",
              "       [-0.98665063,  3.49433517],\n",
              "       [ 0.70514131,  4.0921754 ],\n",
              "       [-2.43190385,  3.10481787],\n",
              "       [-0.15345841,  4.15486913],\n",
              "       [-1.14888856,  7.61193012],\n",
              "       [ 9.17966412, -1.57674896],\n",
              "       [ 5.70496319,  0.01254445],\n",
              "       [ 1.76573423,  0.37444529],\n",
              "       [-2.38470888,  3.50893634],\n",
              "       [ 2.45888109,  0.75185453]])"
            ]
          },
          "metadata": {},
          "execution_count": 7
        }
      ]
    },
    {
      "cell_type": "code",
      "metadata": {
        "colab": {
          "base_uri": "https://localhost:8080/"
        },
        "id": "l8hR_OWd9Lvg",
        "outputId": "b11311eb-c542-427f-81e2-0187d6e93bb7"
      },
      "source": [
        "X.shape"
      ],
      "execution_count": 14,
      "outputs": [
        {
          "output_type": "execute_result",
          "data": {
            "text/plain": [
              "(200, 2)"
            ]
          },
          "metadata": {},
          "execution_count": 14
        }
      ]
    },
    {
      "cell_type": "code",
      "metadata": {
        "colab": {
          "base_uri": "https://localhost:8080/"
        },
        "id": "7senvaQy8SkQ",
        "outputId": "180dfd59-bc20-4dd7-954e-6145e70d97a8"
      },
      "source": [
        "y"
      ],
      "execution_count": 8,
      "outputs": [
        {
          "output_type": "execute_result",
          "data": {
            "text/plain": [
              "array([5, 3, 3, 2, 0, 4, 5, 1, 0, 2, 5, 0, 1, 4, 3, 0, 1, 3, 0, 0, 4, 4,\n",
              "       4, 0, 5, 1, 3, 1, 5, 5, 4, 1, 4, 0, 0, 3, 4, 2, 2, 4, 1, 1, 1, 2,\n",
              "       0, 3, 0, 0, 4, 5, 4, 5, 2, 1, 5, 3, 1, 4, 0, 2, 4, 1, 5, 3, 2, 1,\n",
              "       0, 3, 5, 0, 1, 5, 4, 2, 4, 1, 4, 1, 0, 5, 3, 3, 5, 1, 3, 2, 2, 1,\n",
              "       1, 2, 5, 4, 0, 0, 3, 3, 4, 5, 3, 4, 0, 0, 5, 2, 3, 5, 0, 3, 0, 3,\n",
              "       5, 1, 2, 5, 4, 5, 3, 5, 1, 2, 1, 1, 5, 0, 3, 2, 2, 0, 3, 5, 4, 2,\n",
              "       0, 0, 3, 2, 0, 5, 2, 3, 2, 0, 3, 5, 5, 1, 3, 2, 3, 4, 1, 1, 3, 2,\n",
              "       0, 2, 4, 5, 4, 5, 5, 0, 3, 2, 1, 5, 4, 4, 2, 4, 1, 2, 4, 4, 5, 0,\n",
              "       2, 2, 3, 1, 1, 4, 3, 4, 4, 1, 1, 2, 0, 3, 2, 0, 2, 0, 3, 4, 5, 1,\n",
              "       2, 1])"
            ]
          },
          "metadata": {},
          "execution_count": 8
        }
      ]
    },
    {
      "cell_type": "code",
      "metadata": {
        "colab": {
          "base_uri": "https://localhost:8080/",
          "height": 265
        },
        "id": "cPwgx_Cx8aJA",
        "outputId": "ada5adcb-4f8c-4604-9ae9-47a5c2a68cb0"
      },
      "source": [
        "plt.scatter(X[:,0],X[:,1]);"
      ],
      "execution_count": 9,
      "outputs": [
        {
          "output_type": "display_data",
          "data": {
            "image/png": "[encoded data removed]",
            "text/plain": [
              "<Figure size 432x288 with 1 Axes>"
            ]
          },
          "metadata": {
            "needs_background": "light"
          }
        }
      ]
    },
    {
      "cell_type": "code",
      "metadata": {
        "id": "IFKdlosd8n5k"
      },
      "source": [
        "from scipy.cluster.hierarchy import dendrogram, linkage  \n"
      ],
      "execution_count": 10,
      "outputs": []
    },
    {
      "cell_type": "code",
      "metadata": {
        "id": "gG0ZyYn49JcE"
      },
      "source": [
        "linked = linkage(X, 'single')\n",
        "labelList = range(1, 7)"
      ],
      "execution_count": 19,
      "outputs": []
    },
    {
      "cell_type": "code",
      "metadata": {
        "colab": {
          "base_uri": "https://localhost:8080/",
          "height": 52
        },
        "id": "fIaz36G-90D0",
        "outputId": "58d5f12d-af93-4238-c8e3-da697f25603c"
      },
      "source": [
        "plt.figure()  "
      ],
      "execution_count": 22,
      "outputs": [
        {
          "output_type": "execute_result",
          "data": {
            "text/plain": [
              "<Figure size 432x288 with 0 Axes>"
            ]
          },
          "metadata": {},
          "execution_count": 22
        },
        {
          "output_type": "display_data",
          "data": {
            "text/plain": [
              "<Figure size 432x288 with 0 Axes>"
            ]
          },
          "metadata": {}
        }
      ]
    },
    {
      "cell_type": "code",
      "metadata": {
        "colab": {
          "base_uri": "https://localhost:8080/",
          "height": 265
        },
        "id": "SsAMhWOL9Xio",
        "outputId": "b0646e62-70b1-4c7a-971b-e4608dae05c8"
      },
      "source": [
        "\n",
        "plt.figure()  \n",
        "dendrogram(linked,orientation='top',distance_sort='descending',show_leaf_counts=True)\n",
        "plt.show() "
      ],
      "execution_count": 26,
      "outputs": [
        {
          "output_type": "display_data",
          "data": {
            "image/png": "[encoded data removed]",
            "text/plain": [
              "<Figure size 432x288 with 1 Axes>"
            ]
          },
          "metadata": {
            "needs_background": "light"
          }
        }
      ]
    }
  ]
}