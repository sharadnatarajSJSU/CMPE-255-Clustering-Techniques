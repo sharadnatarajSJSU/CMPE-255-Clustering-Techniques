{
  "nbformat": 4,
  "nbformat_minor": 0,
  "metadata": {
    "colab": {
      "name": "Clustering Techniques - K means",
      "provenance": [],
      "authorship_tag": "ABX9TyM4Z1Zkk6PMCGOtchg0ANzr",
      "include_colab_link": true
    },
    "kernelspec": {
      "name": "python3",
      "display_name": "Python 3"
    },
    "language_info": {
      "name": "python"
    }
  },
  "cells": [
    {
      "cell_type": "markdown",
      "metadata": {
        "id": "view-in-github",
        "colab_type": "text"
      },
      "source": [
        "<a href=\"https://colab.research.google.com/github/sharadnatarajSJSU/CMPE-255-Clustering-Techniques/blob/main/Clustering_Techniques_K_means.ipynb\" target=\"_parent\"><img src=\"https://colab.research.google.com/assets/colab-badge.svg\" alt=\"Open In Colab\"/></a>"
      ]
    },
    {
      "cell_type": "markdown",
      "metadata": {
        "id": "CMfsSZusResH"
      },
      "source": [
        "# Exploring various Clustering Techniques"
      ]
    },
    {
      "cell_type": "markdown",
      "metadata": {
        "id": "KZ6oMd7mRkFJ"
      },
      "source": [
        " K Means Clustering - Implementing manual algorithm"
      ]
    },
    {
      "cell_type": "markdown",
      "metadata": {
        "id": "IwG9Ch3GTsGK"
      },
      "source": [
        "K Means is an unsupervised clustering algotrithm that clusters the points based on the centroid. It works  in 2 steps. Expectation and maximization. Expectation step is predicting or assuming the centers of clusters and then assigning the points that are nearest to the cluster center.\n",
        "\n",
        "Maximization then reevaluates the center of each cluster to assign the points again. K means works by using the number of clusters as an input from the user. One of the other drawbacks is that it can only work with linear boundries. It is not able to recognize complex cluster boundrues and often fails to provide a precise cluster for such data. "
      ]
    },
    {
      "cell_type": "markdown",
      "metadata": {
        "id": "9rq7pSLIUdZK"
      },
      "source": [
        "To demonstrate clustering using K means we will be using the digits dataset from sci-kit learn. It contains the digits represented as points. The expectation is that K means will cluster the points together so we can visually see and recognize the digits."
      ]
    },
    {
      "cell_type": "code",
      "metadata": {
        "id": "FIseJS95Rasg"
      },
      "source": [
        "import pandas as pd\n",
        "import numpy as np\n",
        "import matplotlib.pyplot as plt\n",
        "import seaborn as sns; sns.set()"
      ],
      "execution_count": 1,
      "outputs": []
    },
    {
      "cell_type": "code",
      "metadata": {
        "colab": {
          "base_uri": "https://localhost:8080/"
        },
        "id": "5y4W1QIXVTUe",
        "outputId": "aa01b955-fe4e-4aba-aae2-e480f72cfc64"
      },
      "source": [
        "from sklearn.datasets import load_digits\n",
        "digits = load_digits()\n",
        "digits.data.shape"
      ],
      "execution_count": 3,
      "outputs": [
        {
          "output_type": "execute_result",
          "data": {
            "text/plain": [
              "(1797, 64)"
            ]
          },
          "metadata": {},
          "execution_count": 3
        }
      ]
    },
    {
      "cell_type": "code",
      "metadata": {
        "colab": {
          "base_uri": "https://localhost:8080/"
        },
        "id": "_0qDyAVvV7aj",
        "outputId": "a5c02633-6311-4e06-d6a3-01a7b5a62460"
      },
      "source": [
        "digits.data[0]"
      ],
      "execution_count": 30,
      "outputs": [
        {
          "output_type": "execute_result",
          "data": {
            "text/plain": [
              "array([ 0.,  0.,  5., 13.,  9.,  1.,  0.,  0.,  0.,  0., 13., 15., 10.,\n",
              "       15.,  5.,  0.,  0.,  3., 15.,  2.,  0., 11.,  8.,  0.,  0.,  4.,\n",
              "       12.,  0.,  0.,  8.,  8.,  0.,  0.,  5.,  8.,  0.,  0.,  9.,  8.,\n",
              "        0.,  0.,  4., 11.,  0.,  1., 12.,  7.,  0.,  0.,  2., 14.,  5.,\n",
              "       10., 12.,  0.,  0.,  0.,  0.,  6., 13., 10.,  0.,  0.,  0.])"
            ]
          },
          "metadata": {},
          "execution_count": 30
        }
      ]
    },
    {
      "cell_type": "code",
      "metadata": {
        "colab": {
          "base_uri": "https://localhost:8080/",
          "height": 1000
        },
        "id": "QyabsBRPVYQ6",
        "outputId": "3250d0c6-29b7-46e5-a8a2-13261403fcda"
      },
      "source": [
        "plt.plot(digits.images.reshape(1797,64),digits.data)"
      ],
      "execution_count": 14,
      "outputs": [
        {
          "output_type": "execute_result",
          "data": {
            "text/plain": [
              "[<matplotlib.lines.Line2D at 0x7fa663af8710>,\n",
              " <matplotlib.lines.Line2D at 0x7fa663af87d0>,\n",
              " <matplotlib.lines.Line2D at 0x7fa663af8a50>,\n",
              " <matplotlib.lines.Line2D at 0x7fa663af8cd0>,\n",
              " <matplotlib.lines.Line2D at 0x7fa663af8e90>,\n",
              " <matplotlib.lines.Line2D at 0x7fa663b01090>,\n",
              " <matplotlib.lines.Line2D at 0x7fa663b012d0>,\n",
              " <matplotlib.lines.Line2D at 0x7fa663b01490>,\n",
              " <matplotlib.lines.Line2D at 0x7fa663af8e50>,\n",
              " <matplotlib.lines.Line2D at 0x7fa663b010d0>,\n",
              " <matplotlib.lines.Line2D at 0x7fa663af86d0>,\n",
              " <matplotlib.lines.Line2D at 0x7fa663b01ad0>,\n",
              " <matplotlib.lines.Line2D at 0x7fa663b01c90>,\n",
              " <matplotlib.lines.Line2D at 0x7fa663b01e50>,\n",
              " <matplotlib.lines.Line2D at 0x7fa663b01fd0>,\n",
              " <matplotlib.lines.Line2D at 0x7fa663b05210>,\n",
              " <matplotlib.lines.Line2D at 0x7fa663b053d0>,\n",
              " <matplotlib.lines.Line2D at 0x7fa663b05590>,\n",
              " <matplotlib.lines.Line2D at 0x7fa663b05750>,\n",
              " <matplotlib.lines.Line2D at 0x7fa663b05910>,\n",
              " <matplotlib.lines.Line2D at 0x7fa663b05ad0>,\n",
              " <matplotlib.lines.Line2D at 0x7fa663b05c90>,\n",
              " <matplotlib.lines.Line2D at 0x7fa663b05e50>,\n",
              " <matplotlib.lines.Line2D at 0x7fa663b05fd0>,\n",
              " <matplotlib.lines.Line2D at 0x7fa663b09210>,\n",
              " <matplotlib.lines.Line2D at 0x7fa663b093d0>,\n",
              " <matplotlib.lines.Line2D at 0x7fa663b09590>,\n",
              " <matplotlib.lines.Line2D at 0x7fa663b09750>,\n",
              " <matplotlib.lines.Line2D at 0x7fa663b09910>,\n",
              " <matplotlib.lines.Line2D at 0x7fa663b09ad0>,\n",
              " <matplotlib.lines.Line2D at 0x7fa663b09c90>,\n",
              " <matplotlib.lines.Line2D at 0x7fa663b09e50>,\n",
              " <matplotlib.lines.Line2D at 0x7fa663b09fd0>,\n",
              " <matplotlib.lines.Line2D at 0x7fa663b0e210>,\n",
              " <matplotlib.lines.Line2D at 0x7fa663b0e3d0>,\n",
              " <matplotlib.lines.Line2D at 0x7fa663b0e590>,\n",
              " <matplotlib.lines.Line2D at 0x7fa663b0e750>,\n",
              " <matplotlib.lines.Line2D at 0x7fa663b0e910>,\n",
              " <matplotlib.lines.Line2D at 0x7fa663b0ead0>,\n",
              " <matplotlib.lines.Line2D at 0x7fa663b0ec90>,\n",
              " <matplotlib.lines.Line2D at 0x7fa663b0ee50>,\n",
              " <matplotlib.lines.Line2D at 0x7fa663b0efd0>,\n",
              " <matplotlib.lines.Line2D at 0x7fa663b12210>,\n",
              " <matplotlib.lines.Line2D at 0x7fa663b123d0>,\n",
              " <matplotlib.lines.Line2D at 0x7fa663b12590>,\n",
              " <matplotlib.lines.Line2D at 0x7fa663b12750>,\n",
              " <matplotlib.lines.Line2D at 0x7fa663b12910>,\n",
              " <matplotlib.lines.Line2D at 0x7fa663b12ad0>,\n",
              " <matplotlib.lines.Line2D at 0x7fa663b12c90>,\n",
              " <matplotlib.lines.Line2D at 0x7fa663b12e50>,\n",
              " <matplotlib.lines.Line2D at 0x7fa663b12fd0>,\n",
              " <matplotlib.lines.Line2D at 0x7fa663b15210>,\n",
              " <matplotlib.lines.Line2D at 0x7fa663b153d0>,\n",
              " <matplotlib.lines.Line2D at 0x7fa663b15590>,\n",
              " <matplotlib.lines.Line2D at 0x7fa663b15750>,\n",
              " <matplotlib.lines.Line2D at 0x7fa663b15910>,\n",
              " <matplotlib.lines.Line2D at 0x7fa663b15ad0>,\n",
              " <matplotlib.lines.Line2D at 0x7fa663b15c90>,\n",
              " <matplotlib.lines.Line2D at 0x7fa663b15e50>,\n",
              " <matplotlib.lines.Line2D at 0x7fa663b15fd0>,\n",
              " <matplotlib.lines.Line2D at 0x7fa663b19210>,\n",
              " <matplotlib.lines.Line2D at 0x7fa663b193d0>,\n",
              " <matplotlib.lines.Line2D at 0x7fa663b19590>,\n",
              " <matplotlib.lines.Line2D at 0x7fa663b19750>]"
            ]
          },
          "metadata": {},
          "execution_count": 14
        },
        {
          "output_type": "display_data",
          "data": {
            "image/png": "[encoded data removed]",
            "text/plain": [
              "<Figure size 432x288 with 1 Axes>"
            ]
          },
          "metadata": {
            "needs_background": "light"
          }
        }
      ]
    },
    {
      "cell_type": "markdown",
      "metadata": {
        "id": "k43EYK4eVBS2"
      },
      "source": [
        "Coding the K means algorithm."
      ]
    },
    {
      "cell_type": "code",
      "metadata": {
        "id": "_NwWc_ZLVDmq"
      },
      "source": [
        "from sklearn.metrics import pairwise_distances_argmin"
      ],
      "execution_count": 2,
      "outputs": []
    },
    {
      "cell_type": "code",
      "metadata": {
        "id": "OgNSpFMDWk-q"
      },
      "source": [
        "rstate = 2"
      ],
      "execution_count": 16,
      "outputs": []
    },
    {
      "cell_type": "code",
      "metadata": {
        "id": "7h4PCxuYVHwD"
      },
      "source": [
        "def kmeans_cluster(X, k):\n",
        "    #randomly choosing initial k clusters.\n",
        "    rng = np.random.RandomState(rstate)\n",
        "    i = rng.permutation(X.shape[0])[:k]\n",
        "    centers = X[i]\n",
        "    \n",
        "    while True:\n",
        "        #finding distances between clusters center and each point. Assigning the labels based on distance. \n",
        "        # This is the estimation step\n",
        "        labels = pairwise_distances_argmin(X, centers)\n",
        "        \n",
        "        #Finding the New cluster center after adding the points. This is the Maximization step\n",
        "        new_centers = np.array([X[labels == i].mean(0)\n",
        "                                for i in range(k)])\n",
        "        \n",
        "        # The algorithm stops when there are no changes to the cluster. This is convergence. It can also be stopped based on the number of interations.\n",
        "        if np.all(centers == new_centers):\n",
        "            break\n",
        "        centers = new_centers\n",
        "    \n",
        "    return centers, labels"
      ],
      "execution_count": 18,
      "outputs": []
    },
    {
      "cell_type": "markdown",
      "metadata": {
        "id": "T5PBT61FX0Ax"
      },
      "source": [
        "Implementing K means clustering to the data set. In our case we know we have 10 digits. So the outcome should be 10 clusters. Hence K =10"
      ]
    },
    {
      "cell_type": "code",
      "metadata": {
        "id": "uTs_NXY7Xs9y"
      },
      "source": [
        "centers, labels = kmeans_cluster(digits.data, 10)"
      ],
      "execution_count": 26,
      "outputs": []
    },
    {
      "cell_type": "code",
      "metadata": {
        "colab": {
          "base_uri": "https://localhost:8080/"
        },
        "id": "IgLCanyMY1Ry",
        "outputId": "6ec5d822-2cc3-413a-c09c-c21701e8a528"
      },
      "source": [
        "labels.shape"
      ],
      "execution_count": 28,
      "outputs": [
        {
          "output_type": "execute_result",
          "data": {
            "text/plain": [
              "(1797,)"
            ]
          },
          "metadata": {},
          "execution_count": 28
        }
      ]
    },
    {
      "cell_type": "code",
      "metadata": {
        "id": "yTQopKjSZjB7"
      },
      "source": [
        "centers = centers.reshape(10,8,8)"
      ],
      "execution_count": 31,
      "outputs": []
    },
    {
      "cell_type": "code",
      "metadata": {
        "colab": {
          "base_uri": "https://localhost:8080/",
          "height": 194
        },
        "id": "8O37Mn2HYjM6",
        "outputId": "6376ce30-7153-4ee1-fb9e-d906a87ab437"
      },
      "source": [
        "fig, ax = plt.subplots(2, 5, figsize=(8, 3))\n",
        "for axi, center in zip(ax.flat, centers):\n",
        "    axi.set(xticks=[], yticks=[])\n",
        "    axi.imshow(center, interpolation='nearest', cmap=plt.cm.binary)"
      ],
      "execution_count": 32,
      "outputs": [
        {
          "output_type": "display_data",
          "data": {
            "image/png": "[encoded data removed]",
            "text/plain": [
              "<Figure size 576x216 with 10 Axes>"
            ]
          },
          "metadata": {}
        }
      ]
    },
    {
      "cell_type": "markdown",
      "metadata": {
        "id": "yFx5APwBZ6UQ"
      },
      "source": [
        "Let us try the same with the scikit learn library.\n"
      ]
    },
    {
      "cell_type": "code",
      "metadata": {
        "id": "6R6npL56Z-Ae"
      },
      "source": [
        "from sklearn.cluster import KMeans"
      ],
      "execution_count": 33,
      "outputs": []
    },
    {
      "cell_type": "code",
      "metadata": {
        "colab": {
          "base_uri": "https://localhost:8080/"
        },
        "id": "icTIAym8aKNe",
        "outputId": "ddafa376-6f09-46d4-8ba6-d6a850851994"
      },
      "source": [
        "kmeans = KMeans(n_clusters=10, random_state=0)\n",
        "clusters = kmeans.fit_predict(digits.data)\n",
        "kmeans.cluster_centers_.shape"
      ],
      "execution_count": 34,
      "outputs": [
        {
          "output_type": "execute_result",
          "data": {
            "text/plain": [
              "(10, 64)"
            ]
          },
          "metadata": {},
          "execution_count": 34
        }
      ]
    },
    {
      "cell_type": "code",
      "metadata": {
        "colab": {
          "base_uri": "https://localhost:8080/",
          "height": 194
        },
        "id": "xycv9XrdaFEj",
        "outputId": "7e345567-bca7-4469-95b0-f3c22b9b21b4"
      },
      "source": [
        "fig, ax = plt.subplots(2, 5, figsize=(8, 3))\n",
        "centers = kmeans.cluster_centers_.reshape(10, 8, 8)\n",
        "for axi, center in zip(ax.flat, centers):\n",
        "    axi.set(xticks=[], yticks=[])\n",
        "    axi.imshow(center, interpolation='nearest', cmap=plt.cm.binary)"
      ],
      "execution_count": 35,
      "outputs": [
        {
          "output_type": "display_data",
          "data": {
            "image/png": "[encoded data removed]",
            "text/plain": [
              "<Figure size 576x216 with 10 Axes>"
            ]
          },
          "metadata": {}
        }
      ]
    },
    {
      "cell_type": "markdown",
      "metadata": {
        "id": "189BbAqw4-_h"
      },
      "source": [
        "We are going to comapre the predicted labels to the actual labels from the digit data set. To achive this first we make sure that we are using the right permutation as K means does not have any information on the organization of labels."
      ]
    },
    {
      "cell_type": "code",
      "metadata": {
        "id": "XYEeVN6s4-pS"
      },
      "source": [
        "from scipy.stats import mode\n",
        "\n",
        "labels = np.zeros_like(clusters)\n",
        "for i in range(10):\n",
        "    mask = (clusters == i)\n",
        "    labels[mask] = mode(digits.target[mask])[0]"
      ],
      "execution_count": 36,
      "outputs": []
    },
    {
      "cell_type": "code",
      "metadata": {
        "colab": {
          "base_uri": "https://localhost:8080/"
        },
        "id": "UPyorDWW5Mw8",
        "outputId": "5b87be70-6587-47ac-d874-fcb5571c802d"
      },
      "source": [
        "from sklearn.metrics import accuracy_score\n",
        "accuracy_score(digits.target, labels)"
      ],
      "execution_count": 37,
      "outputs": [
        {
          "output_type": "execute_result",
          "data": {
            "text/plain": [
              "0.7935447968836951"
            ]
          },
          "metadata": {},
          "execution_count": 37
        }
      ]
    },
    {
      "cell_type": "code",
      "metadata": {
        "colab": {
          "base_uri": "https://localhost:8080/",
          "height": 285
        },
        "id": "fGnNrqyG5UzZ",
        "outputId": "d2013aff-d278-4db8-eae9-80406930dd6a"
      },
      "source": [
        "from sklearn.metrics import confusion_matrix\n",
        "mat = confusion_matrix(digits.target, labels)\n",
        "sns.heatmap(mat.T, square=True, annot=True, fmt='d', cbar=False,\n",
        "            xticklabels=digits.target_names,\n",
        "            yticklabels=digits.target_names)\n",
        "plt.xlabel('true label')\n",
        "plt.ylabel('predicted label');"
      ],
      "execution_count": 38,
      "outputs": [
        {
          "output_type": "display_data",
          "data": {
            "image/png": "[encoded data removed]",
            "text/plain": [
              "<Figure size 432x288 with 1 Axes>"
            ]
          },
          "metadata": {
            "needs_background": "light"
          }
        }
      ]
    },
    {
      "cell_type": "markdown",
      "metadata": {
        "id": "j7X6GqZd5Wjw"
      },
      "source": [
        "We can see that it has some trouble clustering the numbers 8 and 5. This could be because that the bounderies are more geometrical than linear. We can use spectral clustering to solve this issue. But we are not implementing it as it is performing sifficiently for the outcome of this notebook."
      ]
    }
  ]
}